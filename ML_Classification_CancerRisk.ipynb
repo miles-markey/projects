{
 "cells": [
  {
   "cell_type": "markdown",
   "metadata": {},
   "source": [
    "The goal of this project is to build a predictive model for predicting biopsy results for patients at risk of developing cervical cancer. The dataset used for this project was accessed on Kaggle and contains 36 columns: 35 predictor variables consisting primarily on patient history information, and a 'Biopsy' column containing a binary biopsy result from each patient. The goal of this project will be to use this dataset to predict biopsy result for each patient. Because a biopsy is an invasive medical procedure, the ability to predict biopsy results based on patient history is a valuable tool that can prevent unnecessary biopsies. The model used for this project will be a suppor vector machine (SVM) model \n",
    "\n",
    "A primary challenge faced in the development of this model is dealing with missing data. The full dataset contains data from 868 patients. However, only 59 of those 868 patients contain full rows of data without any missing values. Building a predictive model based only on these 59 patients is not nearly as significant as a model based on the full dataset would be. In order to do this, missing values must be intelligently replaced in the dataset with values that will allow those patients to be included in the model without heavily influencing the prediction of the model. This is done by performing a combination of linear/logistic regression using the patient's age values to replace missing values with values consistent with the rest of the dataset based on age.\n",
    "\n",
    "The first step in this project is to import the necessary Python libraries."
   ]
  },
  {
   "cell_type": "code",
   "execution_count": 1,
   "metadata": {},
   "outputs": [],
   "source": [
    "import pandas\n",
    "import sklearn\n",
    "from sklearn import svm\n",
    "from sklearn.model_selection import train_test_split\n",
    "import numpy as np\n",
    "from sklearn.metrics import classification_report, confusion_matrix\n",
    "from sklearn.linear_model import LinearRegression\n",
    "import math\n",
    "import random"
   ]
  },
  {
   "cell_type": "markdown",
   "metadata": {},
   "source": [
    "Next, the dataset is imported from the csv file downloaded from Kaggle. All rows containing a '?', or missing data point, are then dropped to perform a preliminary analysis on all full rows of this dataset"
   ]
  },
  {
   "cell_type": "code",
   "execution_count": 2,
   "metadata": {},
   "outputs": [
    {
     "data": {
      "text/html": [
       "<div>\n",
       "<style scoped>\n",
       "    .dataframe tbody tr th:only-of-type {\n",
       "        vertical-align: middle;\n",
       "    }\n",
       "\n",
       "    .dataframe tbody tr th {\n",
       "        vertical-align: top;\n",
       "    }\n",
       "\n",
       "    .dataframe thead th {\n",
       "        text-align: right;\n",
       "    }\n",
       "</style>\n",
       "<table border=\"1\" class=\"dataframe\">\n",
       "  <thead>\n",
       "    <tr style=\"text-align: right;\">\n",
       "      <th></th>\n",
       "      <th>Age</th>\n",
       "      <th>Number of sexual partners</th>\n",
       "      <th>First sexual intercourse</th>\n",
       "      <th>Num of pregnancies</th>\n",
       "      <th>Smokes</th>\n",
       "      <th>Smokes (years)</th>\n",
       "      <th>Smokes (packs/year)</th>\n",
       "      <th>Hormonal Contraceptives</th>\n",
       "      <th>Hormonal Contraceptives (years)</th>\n",
       "      <th>IUD</th>\n",
       "      <th>...</th>\n",
       "      <th>STDs: Time since first diagnosis</th>\n",
       "      <th>STDs: Time since last diagnosis</th>\n",
       "      <th>Dx:Cancer</th>\n",
       "      <th>Dx:CIN</th>\n",
       "      <th>Dx:HPV</th>\n",
       "      <th>Dx</th>\n",
       "      <th>Hinselmann</th>\n",
       "      <th>Schiller</th>\n",
       "      <th>Citology</th>\n",
       "      <th>Biopsy</th>\n",
       "    </tr>\n",
       "  </thead>\n",
       "  <tbody>\n",
       "    <tr>\n",
       "      <th>0</th>\n",
       "      <td>18</td>\n",
       "      <td>4.0</td>\n",
       "      <td>15.0</td>\n",
       "      <td>1.0</td>\n",
       "      <td>0.0</td>\n",
       "      <td>0.0</td>\n",
       "      <td>0.0</td>\n",
       "      <td>0.0</td>\n",
       "      <td>0.0</td>\n",
       "      <td>0.0</td>\n",
       "      <td>...</td>\n",
       "      <td>?</td>\n",
       "      <td>?</td>\n",
       "      <td>0</td>\n",
       "      <td>0</td>\n",
       "      <td>0</td>\n",
       "      <td>0</td>\n",
       "      <td>0</td>\n",
       "      <td>0</td>\n",
       "      <td>0</td>\n",
       "      <td>0</td>\n",
       "    </tr>\n",
       "    <tr>\n",
       "      <th>1</th>\n",
       "      <td>15</td>\n",
       "      <td>1.0</td>\n",
       "      <td>14.0</td>\n",
       "      <td>1.0</td>\n",
       "      <td>0.0</td>\n",
       "      <td>0.0</td>\n",
       "      <td>0.0</td>\n",
       "      <td>0.0</td>\n",
       "      <td>0.0</td>\n",
       "      <td>0.0</td>\n",
       "      <td>...</td>\n",
       "      <td>?</td>\n",
       "      <td>?</td>\n",
       "      <td>0</td>\n",
       "      <td>0</td>\n",
       "      <td>0</td>\n",
       "      <td>0</td>\n",
       "      <td>0</td>\n",
       "      <td>0</td>\n",
       "      <td>0</td>\n",
       "      <td>0</td>\n",
       "    </tr>\n",
       "    <tr>\n",
       "      <th>2</th>\n",
       "      <td>34</td>\n",
       "      <td>1.0</td>\n",
       "      <td>?</td>\n",
       "      <td>1.0</td>\n",
       "      <td>0.0</td>\n",
       "      <td>0.0</td>\n",
       "      <td>0.0</td>\n",
       "      <td>0.0</td>\n",
       "      <td>0.0</td>\n",
       "      <td>0.0</td>\n",
       "      <td>...</td>\n",
       "      <td>?</td>\n",
       "      <td>?</td>\n",
       "      <td>0</td>\n",
       "      <td>0</td>\n",
       "      <td>0</td>\n",
       "      <td>0</td>\n",
       "      <td>0</td>\n",
       "      <td>0</td>\n",
       "      <td>0</td>\n",
       "      <td>0</td>\n",
       "    </tr>\n",
       "    <tr>\n",
       "      <th>3</th>\n",
       "      <td>52</td>\n",
       "      <td>5.0</td>\n",
       "      <td>16.0</td>\n",
       "      <td>4.0</td>\n",
       "      <td>1.0</td>\n",
       "      <td>37.0</td>\n",
       "      <td>37.0</td>\n",
       "      <td>1.0</td>\n",
       "      <td>3.0</td>\n",
       "      <td>0.0</td>\n",
       "      <td>...</td>\n",
       "      <td>?</td>\n",
       "      <td>?</td>\n",
       "      <td>1</td>\n",
       "      <td>0</td>\n",
       "      <td>1</td>\n",
       "      <td>0</td>\n",
       "      <td>0</td>\n",
       "      <td>0</td>\n",
       "      <td>0</td>\n",
       "      <td>0</td>\n",
       "    </tr>\n",
       "    <tr>\n",
       "      <th>4</th>\n",
       "      <td>46</td>\n",
       "      <td>3.0</td>\n",
       "      <td>21.0</td>\n",
       "      <td>4.0</td>\n",
       "      <td>0.0</td>\n",
       "      <td>0.0</td>\n",
       "      <td>0.0</td>\n",
       "      <td>1.0</td>\n",
       "      <td>15.0</td>\n",
       "      <td>0.0</td>\n",
       "      <td>...</td>\n",
       "      <td>?</td>\n",
       "      <td>?</td>\n",
       "      <td>0</td>\n",
       "      <td>0</td>\n",
       "      <td>0</td>\n",
       "      <td>0</td>\n",
       "      <td>0</td>\n",
       "      <td>0</td>\n",
       "      <td>0</td>\n",
       "      <td>0</td>\n",
       "    </tr>\n",
       "  </tbody>\n",
       "</table>\n",
       "<p>5 rows × 36 columns</p>\n",
       "</div>"
      ],
      "text/plain": [
       "   Age Number of sexual partners First sexual intercourse Num of pregnancies  \\\n",
       "0   18                       4.0                     15.0                1.0   \n",
       "1   15                       1.0                     14.0                1.0   \n",
       "2   34                       1.0                        ?                1.0   \n",
       "3   52                       5.0                     16.0                4.0   \n",
       "4   46                       3.0                     21.0                4.0   \n",
       "\n",
       "  Smokes Smokes (years) Smokes (packs/year) Hormonal Contraceptives  \\\n",
       "0    0.0            0.0                 0.0                     0.0   \n",
       "1    0.0            0.0                 0.0                     0.0   \n",
       "2    0.0            0.0                 0.0                     0.0   \n",
       "3    1.0           37.0                37.0                     1.0   \n",
       "4    0.0            0.0                 0.0                     1.0   \n",
       "\n",
       "  Hormonal Contraceptives (years)  IUD  ... STDs: Time since first diagnosis  \\\n",
       "0                             0.0  0.0  ...                                ?   \n",
       "1                             0.0  0.0  ...                                ?   \n",
       "2                             0.0  0.0  ...                                ?   \n",
       "3                             3.0  0.0  ...                                ?   \n",
       "4                            15.0  0.0  ...                                ?   \n",
       "\n",
       "  STDs: Time since last diagnosis Dx:Cancer Dx:CIN Dx:HPV Dx Hinselmann  \\\n",
       "0                               ?         0      0      0  0          0   \n",
       "1                               ?         0      0      0  0          0   \n",
       "2                               ?         0      0      0  0          0   \n",
       "3                               ?         1      0      1  0          0   \n",
       "4                               ?         0      0      0  0          0   \n",
       "\n",
       "  Schiller Citology Biopsy  \n",
       "0        0        0      0  \n",
       "1        0        0      0  \n",
       "2        0        0      0  \n",
       "3        0        0      0  \n",
       "4        0        0      0  \n",
       "\n",
       "[5 rows x 36 columns]"
      ]
     },
     "execution_count": 2,
     "metadata": {},
     "output_type": "execute_result"
    }
   ],
   "source": [
    "#Import dataset as Pandas df\n",
    "dataset = pandas.read_csv('/Users/milesmarkey/Downloads/kag_risk_factors_cervical_cancer.csv')\n",
    "dataset.head()"
   ]
  },
  {
   "cell_type": "code",
   "execution_count": 3,
   "metadata": {},
   "outputs": [
    {
     "name": "stdout",
     "output_type": "stream",
     "text": [
      "(59, 36)\n"
     ]
    }
   ],
   "source": [
    "#Data preprocessing - replace all '?' with NaN, then remove all rows containing NaN\n",
    "\n",
    "dataset.replace('?',np.nan,inplace=True)\n",
    "droppedDs = dataset.dropna(axis=0,how='any',inplace=False)\n",
    "print(droppedDs.shape)\n",
    "#Note the resulting dataset is very small. "
   ]
  },
  {
   "cell_type": "markdown",
   "metadata": {},
   "source": [
    "The SVM model is built by separating the 'Biopsy' column from the other 35 columns. The Biopsy column is used as the dependent variable while the other columns are used as the independent variables. These variables are then split 80/20 for training/testing data, then fit to a linear SVM model. "
   ]
  },
  {
   "cell_type": "code",
   "execution_count": 4,
   "metadata": {},
   "outputs": [],
   "source": [
    "#Separate independent variable from dependent variables (Here the variable to be predicted is 'Biopsy')\n",
    "\n",
    "X = droppedDs.drop('Biopsy',axis=1)\n",
    "y = droppedDs.Biopsy"
   ]
  },
  {
   "cell_type": "code",
   "execution_count": 5,
   "metadata": {},
   "outputs": [],
   "source": [
    "#Use scikitlearn's train/test split to randomly split data for training/testing (80/20 split)\n",
    "\n",
    "X_train,X_test,y_train,y_test = train_test_split(X,y,test_size=0.2)"
   ]
  },
  {
   "cell_type": "code",
   "execution_count": 6,
   "metadata": {},
   "outputs": [],
   "source": [
    "#Initialize SVM classifier with Linear Kernel function:\n",
    "Linear_classifier = svm.SVC(kernel='linear')"
   ]
  },
  {
   "cell_type": "code",
   "execution_count": 7,
   "metadata": {},
   "outputs": [
    {
     "data": {
      "text/plain": [
       "SVC(kernel='linear')"
      ]
     },
     "execution_count": 7,
     "metadata": {},
     "output_type": "execute_result"
    }
   ],
   "source": [
    "#Train the classifiers\n",
    "\n",
    "Linear_classifier.fit(X_train,y_train)"
   ]
  },
  {
   "cell_type": "code",
   "execution_count": 8,
   "metadata": {},
   "outputs": [
    {
     "name": "stdout",
     "output_type": "stream",
     "text": [
      "0.8333333333333334\n",
      "[[8 0]\n",
      " [2 2]]\n"
     ]
    }
   ],
   "source": [
    "y_pred = Linear_classifier.predict(X_test)\n",
    "accuracy = sklearn.metrics.accuracy_score(y_test,y_pred)\n",
    "print(accuracy)\n",
    "print(confusion_matrix(y_test,y_pred))"
   ]
  },
  {
   "cell_type": "markdown",
   "metadata": {},
   "source": [
    "We can see here that the model has a reasonably high accuracy, but the sample size is very low because all rows that contained an NaN were dropped from the dataset. Additionally, the fact that so much data has been dropped has actually introduced a bias to the dataset (because it only includes patients who have an STD, since all others have an 'NaN' value in their 27th and 28th columns). To address this problem, columns 27 and 28 (containing data related to STD diagnosis, which a large majority of the patients do not have) will be dropped first, then all rows containing NaNs will be dropped. This will leave us with a much larger dataset than we previoulsy had since we are temporarily ignoring two of the columns where most of the missing data is contained\n",
    "\n",
    "After doing this, the data divided into X/y variables, split for training/testing, and used for fitting an SVM model once again, as was done previously"
   ]
  },
  {
   "cell_type": "code",
   "execution_count": 9,
   "metadata": {},
   "outputs": [
    {
     "name": "stdout",
     "output_type": "stream",
     "text": [
      "(668, 34)\n"
     ]
    }
   ],
   "source": [
    "std_first = dataset['STDs: Time since first diagnosis']\n",
    "stf_last = dataset['STDs: Time since last diagnosis']\n",
    "newDs1 = dataset.drop('STDs: Time since first diagnosis',axis=1)\n",
    "newDs2 = newDs1.drop('STDs: Time since last diagnosis',axis=1)\n",
    "newDs3 = newDs2.dropna(axis=0,how='any',inplace=False)\n",
    "print(newDs3.shape)"
   ]
  },
  {
   "cell_type": "code",
   "execution_count": 10,
   "metadata": {},
   "outputs": [],
   "source": [
    "#Separate independent/dependent variable of new dataset\n",
    "X2 = newDs3.drop('Biopsy',axis=1)\n",
    "y2 = newDs3.Biopsy"
   ]
  },
  {
   "cell_type": "code",
   "execution_count": 11,
   "metadata": {},
   "outputs": [],
   "source": [
    "#Train/test split\n",
    "X_train,X_test,y_train,y_test = train_test_split(X2,y2,test_size=0.2)"
   ]
  },
  {
   "cell_type": "code",
   "execution_count": 12,
   "metadata": {},
   "outputs": [
    {
     "data": {
      "text/plain": [
       "SVC(kernel='linear')"
      ]
     },
     "execution_count": 12,
     "metadata": {},
     "output_type": "execute_result"
    }
   ],
   "source": [
    "Linear_classifier = svm.SVC(kernel='linear')\n",
    "Linear_classifier.fit(X_train,y_train)"
   ]
  },
  {
   "cell_type": "code",
   "execution_count": 13,
   "metadata": {},
   "outputs": [
    {
     "name": "stdout",
     "output_type": "stream",
     "text": [
      "0.917910447761194\n",
      "[[110   9]\n",
      " [  2  13]]\n"
     ]
    }
   ],
   "source": [
    "y_pred = Linear_classifier.predict(X_test)\n",
    "accuracy = sklearn.metrics.accuracy_score(y_test,y_pred)\n",
    "print(accuracy)\n",
    "print(confusion_matrix(y_test,y_pred))"
   ]
  },
  {
   "cell_type": "markdown",
   "metadata": {},
   "source": [
    "This model is significantly more powerful than the original model. The accuracy value is similar, but more significant is the fact that  the model is now trained/tested on a much larger dataset, increasing the significance of the results. \n",
    "\n",
    "The final model will be built using the full dataset (ie. all 858 rows, rather than the 668 used previously). This will be done by replacing all remaining NaN values with sensible values. While these values will not represent actual data points, they will allow the patients to be included in the model training. This will be done column by column"
   ]
  },
  {
   "cell_type": "code",
   "execution_count": 14,
   "metadata": {},
   "outputs": [
    {
     "name": "stdout",
     "output_type": "stream",
     "text": [
      "(858,)\n",
      "(858,)\n"
     ]
    }
   ],
   "source": [
    "age = dataset.Age\n",
    "test = age.dropna(axis=0,how='any',inplace=False)\n",
    "print(age.shape)\n",
    "print(test.shape)\n",
    "#All patients have an age. This will be used to approximate other values for these patients"
   ]
  },
  {
   "cell_type": "code",
   "execution_count": 15,
   "metadata": {},
   "outputs": [
    {
     "name": "stdout",
     "output_type": "stream",
     "text": [
      "['Number of sexual partners', 'First sexual intercourse', 'Num of pregnancies', 'Smokes', 'Smokes (years)', 'Smokes (packs/year)', 'Hormonal Contraceptives', 'Hormonal Contraceptives (years)', 'IUD', 'IUD (years)', 'STDs', 'STDs (number)', 'STDs:condylomatosis', 'STDs:cervical condylomatosis', 'STDs:vaginal condylomatosis', 'STDs:vulvo-perineal condylomatosis', 'STDs:syphilis', 'STDs:pelvic inflammatory disease', 'STDs:genital herpes', 'STDs:molluscum contagiosum', 'STDs:AIDS', 'STDs:HIV', 'STDs:Hepatitis B', 'STDs:HPV']\n"
     ]
    }
   ],
   "source": [
    "columnsMissingData = []\n",
    "for (columnName,columnData) in newDs2.iteritems():\n",
    "    varNonNanData = columnData.dropna(axis=0,how='any',inplace=False)\n",
    "    if not (len(varNonNanData) == len(newDs2)):\n",
    "        columnsMissingData.append(columnName)\n",
    "print(columnsMissingData)"
   ]
  },
  {
   "cell_type": "markdown",
   "metadata": {},
   "source": [
    "This shows a list of the rows that contain at least 1 NaN value. For some of these values (Number of sexual partners, first sexual intercourse, etc.) it may make sense to replace the NaN values with the average value of the column. Others, such as 'Smokes', or 'IUD' are binary, and therefore should be replaced with a '1' or a '0', depending on the frequency of each occurance.\n",
    "One potential improvement to this basic method of replacement using either average values or average frequency is to account for a patient's age, since many of these variable will logically depend on age. This can be done by creating a simple regression model with age as the independent variable and the variable of interest as the dependent variable. This model can then be given the age of the patient with the missing data point, and will return a more accurate prediction for the missing variable. This is done using the function(s) below:"
   ]
  },
  {
   "cell_type": "code",
   "execution_count": 16,
   "metadata": {},
   "outputs": [],
   "source": [
    "def truncate(n, decimals=0):\n",
    "    multiplier = 10 ** decimals\n",
    "    return int(n * multiplier) / multiplier\n",
    "\n",
    "def createRegressionModel(X,y):\n",
    "    X = X.to_numpy().reshape(-1,1)\n",
    "    y = y.to_numpy()\n",
    "    model = LinearRegression()\n",
    "    model.fit(X,y)\n",
    "    return model\n",
    "\n",
    "def fillInMissingValues(inputDataset,dependentVariable):\n",
    "    subDataset = dataset[['Age',dependentVariable]]\n",
    "    nonMissingDataset = dataset.dropna(axis=0,how='any',inplace=False)\n",
    "    X = nonMissingDataset['Age']\n",
    "    y = nonMissingDataset[dependentVariable]\n",
    "    trainedModel = createRegressionModel(X,y)\n",
    "    count = 0\n",
    "    for idx in inputDataset.index:\n",
    "        #print(type(float(inputDataset[dependentVariable][idx])))\n",
    "        if np.isnan(float(inputDataset[dependentVariable][idx])):\n",
    "            #print(type(float(inputDataset['Age'][idx])))\n",
    "            replaceVal = trainedModel.predict(inputDataset['Age'][idx].reshape(-1,1))\n",
    "            replaceVal = truncate(replaceVal,1)\n",
    "            inputDataset.loc[idx, dependentVariable] = replaceVal\n",
    "    \n",
    "\n",
    "\n",
    "fillInMissingValues(newDs2,'Number of sexual partners')\n",
    "fillInMissingValues(newDs2,'First sexual intercourse')\n",
    "fillInMissingValues(newDs2,'Num of pregnancies')"
   ]
  },
  {
   "cell_type": "code",
   "execution_count": 17,
   "metadata": {},
   "outputs": [
    {
     "name": "stdout",
     "output_type": "stream",
     "text": [
      "['Smokes', 'Smokes (years)', 'Smokes (packs/year)', 'Hormonal Contraceptives', 'Hormonal Contraceptives (years)', 'IUD', 'IUD (years)', 'STDs', 'STDs (number)', 'STDs:condylomatosis', 'STDs:cervical condylomatosis', 'STDs:vaginal condylomatosis', 'STDs:vulvo-perineal condylomatosis', 'STDs:syphilis', 'STDs:pelvic inflammatory disease', 'STDs:genital herpes', 'STDs:molluscum contagiosum', 'STDs:AIDS', 'STDs:HIV', 'STDs:Hepatitis B', 'STDs:HPV']\n"
     ]
    }
   ],
   "source": [
    "columnsMissingData = []\n",
    "for (columnName,columnData) in newDs2.iteritems():\n",
    "    varNonNanData = columnData.dropna(axis=0,how='any',inplace=False)\n",
    "    if not (len(varNonNanData) == len(newDs2)):\n",
    "        columnsMissingData.append(columnName)\n",
    "print(columnsMissingData)"
   ]
  },
  {
   "cell_type": "code",
   "execution_count": 18,
   "metadata": {},
   "outputs": [
    {
     "name": "stdout",
     "output_type": "stream",
     "text": [
      "(858, 34)\n"
     ]
    },
    {
     "data": {
      "text/html": [
       "<div>\n",
       "<style scoped>\n",
       "    .dataframe tbody tr th:only-of-type {\n",
       "        vertical-align: middle;\n",
       "    }\n",
       "\n",
       "    .dataframe tbody tr th {\n",
       "        vertical-align: top;\n",
       "    }\n",
       "\n",
       "    .dataframe thead th {\n",
       "        text-align: right;\n",
       "    }\n",
       "</style>\n",
       "<table border=\"1\" class=\"dataframe\">\n",
       "  <thead>\n",
       "    <tr style=\"text-align: right;\">\n",
       "      <th></th>\n",
       "      <th>Age</th>\n",
       "      <th>Number of sexual partners</th>\n",
       "      <th>First sexual intercourse</th>\n",
       "      <th>Num of pregnancies</th>\n",
       "      <th>Smokes</th>\n",
       "      <th>Smokes (years)</th>\n",
       "      <th>Smokes (packs/year)</th>\n",
       "      <th>Hormonal Contraceptives</th>\n",
       "      <th>Hormonal Contraceptives (years)</th>\n",
       "      <th>IUD</th>\n",
       "      <th>...</th>\n",
       "      <th>STDs:HPV</th>\n",
       "      <th>STDs: Number of diagnosis</th>\n",
       "      <th>Dx:Cancer</th>\n",
       "      <th>Dx:CIN</th>\n",
       "      <th>Dx:HPV</th>\n",
       "      <th>Dx</th>\n",
       "      <th>Hinselmann</th>\n",
       "      <th>Schiller</th>\n",
       "      <th>Citology</th>\n",
       "      <th>Biopsy</th>\n",
       "    </tr>\n",
       "  </thead>\n",
       "  <tbody>\n",
       "    <tr>\n",
       "      <th>0</th>\n",
       "      <td>18</td>\n",
       "      <td>4.0</td>\n",
       "      <td>15.0</td>\n",
       "      <td>1.0</td>\n",
       "      <td>0.0</td>\n",
       "      <td>0.0</td>\n",
       "      <td>0.0</td>\n",
       "      <td>0.0</td>\n",
       "      <td>0.0</td>\n",
       "      <td>0.0</td>\n",
       "      <td>...</td>\n",
       "      <td>0.0</td>\n",
       "      <td>0</td>\n",
       "      <td>0</td>\n",
       "      <td>0</td>\n",
       "      <td>0</td>\n",
       "      <td>0</td>\n",
       "      <td>0</td>\n",
       "      <td>0</td>\n",
       "      <td>0</td>\n",
       "      <td>0</td>\n",
       "    </tr>\n",
       "    <tr>\n",
       "      <th>1</th>\n",
       "      <td>15</td>\n",
       "      <td>1.0</td>\n",
       "      <td>14.0</td>\n",
       "      <td>1.0</td>\n",
       "      <td>0.0</td>\n",
       "      <td>0.0</td>\n",
       "      <td>0.0</td>\n",
       "      <td>0.0</td>\n",
       "      <td>0.0</td>\n",
       "      <td>0.0</td>\n",
       "      <td>...</td>\n",
       "      <td>0.0</td>\n",
       "      <td>0</td>\n",
       "      <td>0</td>\n",
       "      <td>0</td>\n",
       "      <td>0</td>\n",
       "      <td>0</td>\n",
       "      <td>0</td>\n",
       "      <td>0</td>\n",
       "      <td>0</td>\n",
       "      <td>0</td>\n",
       "    </tr>\n",
       "    <tr>\n",
       "      <th>2</th>\n",
       "      <td>34</td>\n",
       "      <td>1.0</td>\n",
       "      <td>18</td>\n",
       "      <td>1.0</td>\n",
       "      <td>0.0</td>\n",
       "      <td>0.0</td>\n",
       "      <td>0.0</td>\n",
       "      <td>0.0</td>\n",
       "      <td>0.0</td>\n",
       "      <td>0.0</td>\n",
       "      <td>...</td>\n",
       "      <td>0.0</td>\n",
       "      <td>0</td>\n",
       "      <td>0</td>\n",
       "      <td>0</td>\n",
       "      <td>0</td>\n",
       "      <td>0</td>\n",
       "      <td>0</td>\n",
       "      <td>0</td>\n",
       "      <td>0</td>\n",
       "      <td>0</td>\n",
       "    </tr>\n",
       "    <tr>\n",
       "      <th>3</th>\n",
       "      <td>52</td>\n",
       "      <td>5.0</td>\n",
       "      <td>16.0</td>\n",
       "      <td>4.0</td>\n",
       "      <td>1.0</td>\n",
       "      <td>37.0</td>\n",
       "      <td>37.0</td>\n",
       "      <td>1.0</td>\n",
       "      <td>3.0</td>\n",
       "      <td>0.0</td>\n",
       "      <td>...</td>\n",
       "      <td>0.0</td>\n",
       "      <td>0</td>\n",
       "      <td>1</td>\n",
       "      <td>0</td>\n",
       "      <td>1</td>\n",
       "      <td>0</td>\n",
       "      <td>0</td>\n",
       "      <td>0</td>\n",
       "      <td>0</td>\n",
       "      <td>0</td>\n",
       "    </tr>\n",
       "    <tr>\n",
       "      <th>4</th>\n",
       "      <td>46</td>\n",
       "      <td>3.0</td>\n",
       "      <td>21.0</td>\n",
       "      <td>4.0</td>\n",
       "      <td>0.0</td>\n",
       "      <td>0.0</td>\n",
       "      <td>0.0</td>\n",
       "      <td>1.0</td>\n",
       "      <td>15.0</td>\n",
       "      <td>0.0</td>\n",
       "      <td>...</td>\n",
       "      <td>0.0</td>\n",
       "      <td>0</td>\n",
       "      <td>0</td>\n",
       "      <td>0</td>\n",
       "      <td>0</td>\n",
       "      <td>0</td>\n",
       "      <td>0</td>\n",
       "      <td>0</td>\n",
       "      <td>0</td>\n",
       "      <td>0</td>\n",
       "    </tr>\n",
       "  </tbody>\n",
       "</table>\n",
       "<p>5 rows × 34 columns</p>\n",
       "</div>"
      ],
      "text/plain": [
       "   Age Number of sexual partners First sexual intercourse Num of pregnancies  \\\n",
       "0   18                       4.0                     15.0                1.0   \n",
       "1   15                       1.0                     14.0                1.0   \n",
       "2   34                       1.0                       18                1.0   \n",
       "3   52                       5.0                     16.0                4.0   \n",
       "4   46                       3.0                     21.0                4.0   \n",
       "\n",
       "  Smokes Smokes (years) Smokes (packs/year) Hormonal Contraceptives  \\\n",
       "0    0.0            0.0                 0.0                     0.0   \n",
       "1    0.0            0.0                 0.0                     0.0   \n",
       "2    0.0            0.0                 0.0                     0.0   \n",
       "3    1.0           37.0                37.0                     1.0   \n",
       "4    0.0            0.0                 0.0                     1.0   \n",
       "\n",
       "  Hormonal Contraceptives (years)  IUD  ... STDs:HPV  \\\n",
       "0                             0.0  0.0  ...      0.0   \n",
       "1                             0.0  0.0  ...      0.0   \n",
       "2                             0.0  0.0  ...      0.0   \n",
       "3                             3.0  0.0  ...      0.0   \n",
       "4                            15.0  0.0  ...      0.0   \n",
       "\n",
       "  STDs: Number of diagnosis Dx:Cancer Dx:CIN Dx:HPV Dx Hinselmann Schiller  \\\n",
       "0                         0         0      0      0  0          0        0   \n",
       "1                         0         0      0      0  0          0        0   \n",
       "2                         0         0      0      0  0          0        0   \n",
       "3                         0         1      0      1  0          0        0   \n",
       "4                         0         0      0      0  0          0        0   \n",
       "\n",
       "  Citology Biopsy  \n",
       "0        0      0  \n",
       "1        0      0  \n",
       "2        0      0  \n",
       "3        0      0  \n",
       "4        0      0  \n",
       "\n",
       "[5 rows x 34 columns]"
      ]
     },
     "execution_count": 18,
     "metadata": {},
     "output_type": "execute_result"
    }
   ],
   "source": [
    "print(newDs2.shape)\n",
    "newDs2.head()"
   ]
  },
  {
   "cell_type": "code",
   "execution_count": 19,
   "metadata": {},
   "outputs": [
    {
     "name": "stdout",
     "output_type": "stream",
     "text": [
      "(858,)\n",
      "(858,)\n"
     ]
    }
   ],
   "source": [
    "age = newDs2.Age\n",
    "test = age.dropna(axis=0,how='any',inplace=False)\n",
    "print(age.shape)\n",
    "print(test.shape)"
   ]
  },
  {
   "cell_type": "markdown",
   "metadata": {},
   "source": [
    "It is clear that this function was able to replace continuous values with approximations based on the patient's age. For the non-continuous variables, however, a different function must be used. The goal of this function will be to approximate an individual's liklihood of falling into a particular category based on their age. Logisitic Regression will be used to go this:"
   ]
  },
  {
   "cell_type": "code",
   "execution_count": 20,
   "metadata": {},
   "outputs": [],
   "source": [
    "def truncate(n, decimals=0):\n",
    "    multiplier = 10 ** decimals\n",
    "    return int(n * multiplier) / multiplier\n",
    "\n",
    "def createLogRegressionModel(X,y):\n",
    "    X = X.to_numpy().reshape(-1,1)\n",
    "    y = y.to_numpy()\n",
    "    model = LogisticRegression()\n",
    "    model.fit(X,y)\n",
    "    return model\n",
    "\n",
    "def fillInMissingCategoricalValues(inputDataset,dependentVariable):\n",
    "    subDataset = dataset[['Age',dependentVariable]]\n",
    "    nonMissingDataset = dataset.dropna(axis=0,how='any',inplace=False)\n",
    "    X = nonMissingDataset['Age']\n",
    "    y = nonMissingDataset[dependentVariable]\n",
    "    trainedModel = createRegressionModel(X,y)\n",
    "    count = 0\n",
    "    for idx in inputDataset.index:\n",
    "        #print(type(float(inputDataset[dependentVariable][idx])))\n",
    "        if np.isnan(float(inputDataset[dependentVariable][idx])):\n",
    "            #print(type(float(inputDataset['Age'][idx])))\n",
    "            replaceValProbability = trainedModel.predict(inputDataset['Age'][idx].reshape(-1,1))\n",
    "            if (random.random()<replaceValProbability):\n",
    "                replaceVal = 1\n",
    "            else:\n",
    "                replaceVal = 0\n",
    "            inputDataset.loc[idx, dependentVariable] = replaceVal\n",
    "\n",
    "fillInMissingCategoricalValues(newDs2,'Smokes')\n",
    "fillInMissingCategoricalValues(newDs2,'Hormonal Contraceptives')\n",
    "fillInMissingCategoricalValues(newDs2,'IUD')"
   ]
  },
  {
   "cell_type": "code",
   "execution_count": 21,
   "metadata": {},
   "outputs": [
    {
     "name": "stdout",
     "output_type": "stream",
     "text": [
      "['Smokes (years)', 'Smokes (packs/year)', 'Hormonal Contraceptives (years)', 'IUD (years)', 'STDs', 'STDs (number)', 'STDs:condylomatosis', 'STDs:cervical condylomatosis', 'STDs:vaginal condylomatosis', 'STDs:vulvo-perineal condylomatosis', 'STDs:syphilis', 'STDs:pelvic inflammatory disease', 'STDs:genital herpes', 'STDs:molluscum contagiosum', 'STDs:AIDS', 'STDs:HIV', 'STDs:Hepatitis B', 'STDs:HPV']\n"
     ]
    }
   ],
   "source": [
    "columnsMissingData = []\n",
    "for (columnName,columnData) in newDs2.iteritems():\n",
    "    varNonNanData = columnData.dropna(axis=0,how='any',inplace=False)\n",
    "    if not (len(varNonNanData) == len(newDs2)):\n",
    "        columnsMissingData.append(columnName)\n",
    "print(columnsMissingData)"
   ]
  },
  {
   "cell_type": "markdown",
   "metadata": {},
   "source": [
    "Now all the catergorical variables have been filled in. The next step is to fill in the missing values in the related columns:\n",
    "'Smokes (years)', 'Smokes (packs/year)', 'Hormonal Contraceptives (years)', 'IUD (years)'\n",
    "These variables are unique because they will only be non-zero for patients where 'Smokes','Hormonal COntraceptives' or 'IUD' == 1. This means that they can not be filled in based off of simple linear regression based on age for all patients in the dataframe, as the other continuous variables were. Instead, we will first fill in '0' for all variables where the parent variable ('Smokes','Hormonal COntraceptives' or 'IUD') == 0 (including those which were randomly assigned by our logisitic regression. For the remaining missing values, linear regression will be performed based only on the patients who's parent variable == 1. This is done below."
   ]
  },
  {
   "cell_type": "markdown",
   "metadata": {},
   "source": [
    "The final set of variables that need to be replaced are the STD variables. The primary condition that must be upheld for thse variables is that the sum of all child variables must equal the parent value, 'STDs'. This will be done by first assigning each categorical child variable based on logistic regression, with age as the independent variable, then assigning the parent value for each row by finding the sum of the child values in that row. THis is done below:"
   ]
  },
  {
   "cell_type": "code",
   "execution_count": null,
   "metadata": {},
   "outputs": [],
   "source": []
  }
 ],
 "metadata": {
  "kernelspec": {
   "display_name": "Python 3",
   "language": "python",
   "name": "python3"
  },
  "language_info": {
   "codemirror_mode": {
    "name": "ipython",
    "version": 3
   },
   "file_extension": ".py",
   "mimetype": "text/x-python",
   "name": "python",
   "nbconvert_exporter": "python",
   "pygments_lexer": "ipython3",
   "version": "3.8.3"
  }
 },
 "nbformat": 4,
 "nbformat_minor": 4
}
